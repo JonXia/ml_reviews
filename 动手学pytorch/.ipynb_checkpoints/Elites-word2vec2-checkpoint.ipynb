{
 "cells": [
  {
   "cell_type": "markdown",
   "metadata": {},
   "source": [
    "Word2vec\n",
    "===\n",
    "\n",
    "![Snip20191021_3.png](https://i.loli.net/2019/10/21/KL2nWGTElJDidFX.png)\n",
    "![Snip20191021_4.png](https://i.loli.net/2019/10/21/ILzKEPAhQakY5n9.png)\n",
    "![Snip20191021_5.png](https://i.loli.net/2019/10/21/QM4jlKvNaSgmVy3.png)\n",
    "![Snip20191021_6.png](https://i.loli.net/2019/10/21/kOWoJ7Ec5AHKeps.png)\n",
    "![Snip20191021_7.png](https://i.loli.net/2019/10/21/vEBkQJCU1AiYhrx.png)\n",
    "![Snip20191021_10.png](https://i.loli.net/2019/10/21/GuOWLkRHT2hVexU.png)"
   ]
  },
  {
   "cell_type": "code",
   "execution_count": null,
   "metadata": {
    "_cell_guid": "b1076dfc-b9ad-4769-8c92-a6c4dae69d19",
    "_uuid": "8f2839f25d086af736a60e9eeb907d3b93b6e0e5"
   },
   "outputs": [],
   "source": [
    "import plotly\n",
    "import sklearn.decomposition\n",
    "import gensim\n",
    "import numpy\n",
    "import jieba\n",
    "import itertools\n",
    "from collections import Counter"
   ]
  },
  {
   "cell_type": "code",
   "execution_count": null,
   "metadata": {},
   "outputs": [],
   "source": [
    "# 读入语料\n",
    "sentences = gensim.models.word2vec.Text8Corpus('/kaggle/input/word2vec-data/text8/text8')\n",
    "# 训练word2vec模型\n",
    "# size --> dim of word2vec\n",
    "model = gensim.models.word2vec.Word2Vec(sentences, size=300)\n",
    "# 保存模型\n",
    "model.save(\"text8.w2v\")"
   ]
  },
  {
   "cell_type": "code",
   "execution_count": null,
   "metadata": {},
   "outputs": [],
   "source": [
    "model = gensim.models.Word2Vec.load(\"text8.w2v\")\n",
    "# 装载词向量\n",
    "all_word_vector = model[model.wv.vocab]"
   ]
  },
  {
   "cell_type": "code",
   "execution_count": null,
   "metadata": {},
   "outputs": [],
   "source": [
    "start_word = 'apple'\n",
    "topn = 50\n",
    "pca = sklearn.decomposition.PCA(n_components=3)\n",
    "pca.fit(all_word_vector)\n",
    "# 收集与start_word最相似的词向量\n",
    "similar_word_list = [start_word] + [pair[0] for pair in model.most_similar(start_word, topn=topn)]\n",
    "similar_word_vector =  [model[word] for word in similar_word_list]\n",
    "# 降维\n",
    "decomposed_vector = pca.transform(similar_word_vector)"
   ]
  },
  {
   "cell_type": "code",
   "execution_count": null,
   "metadata": {},
   "outputs": [],
   "source": [
    "# 设置坐标图中画出的点的坐标，文本标注的位置和颜色\n",
    "trace = plotly.graph_objs.Scatter3d(\n",
    "    x=decomposed_vector[:, 0],\n",
    "    y=decomposed_vector[:, 1],\n",
    "    z=decomposed_vector[:, 2],\n",
    "    mode=\"markers+text\",\n",
    "    text=similar_word_list,\n",
    "    textposition=\"bottom center\",\n",
    "    marker=dict(\n",
    "        color=[256 - int(numpy.linalg.norm(decomposed_vector[i] - decomposed_vector[0])) for i in range(len(similar_word_list))]\n",
    "    )\n",
    ")\n",
    "layout = plotly.graph_objs.Layout(\n",
    "    title=\"Top \" + str(topn) + \" Word Most Similar With \\\"\" + start_word + \"\\\"\"\n",
    ")\n",
    "data = [trace]\n",
    "figure = plotly.graph_objs.Figure(data=data, layout=layout)\n",
    "graph_name = \"word2vec.html\"\n",
    "# 绘图\n",
    "plotly.offline.plot(figure, filename=graph_name, auto_open=False)"
   ]
  },
  {
   "cell_type": "code",
   "execution_count": null,
   "metadata": {},
   "outputs": [],
   "source": [
    "model.most_similar(positive=['does','have'], negative=['do'])"
   ]
  },
  {
   "cell_type": "code",
   "execution_count": null,
   "metadata": {},
   "outputs": [],
   "source": [
    "model.most_similar(positive=['woman', 'king'], negative=['man'])"
   ]
  }
 ],
 "metadata": {
  "kernelspec": {
   "display_name": "Python 3",
   "language": "python",
   "name": "python3"
  },
  "language_info": {
   "codemirror_mode": {
    "name": "ipython",
    "version": 3
   },
   "file_extension": ".py",
   "mimetype": "text/x-python",
   "name": "python",
   "nbconvert_exporter": "python",
   "pygments_lexer": "ipython3",
   "version": "3.7.1"
  },
  "toc": {
   "base_numbering": 1,
   "nav_menu": {},
   "number_sections": true,
   "sideBar": true,
   "skip_h1_title": false,
   "title_cell": "Table of Contents",
   "title_sidebar": "Contents",
   "toc_cell": false,
   "toc_position": {},
   "toc_section_display": true,
   "toc_window_display": false
  }
 },
 "nbformat": 4,
 "nbformat_minor": 1
}
