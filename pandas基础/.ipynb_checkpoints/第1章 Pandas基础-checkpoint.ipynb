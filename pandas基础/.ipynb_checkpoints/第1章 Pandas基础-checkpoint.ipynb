{
 "cells": [
  {
   "cell_type": "markdown",
   "metadata": {},
   "source": [
    "## 问题与练习\n",
    "### 1. 问题\n",
    "#### 【问题一】 Series和DataFrame有哪些常见属性和方法？"
   ]
  },
  {
   "cell_type": "markdown",
   "metadata": {},
   "source": [
    "- Series 常见属性： \n",
    "    - values :获取值，数组形式\n",
    "    - name:  Series的name \n",
    "    - index: 获取索引\n",
    "    - dtype: values 的类型\n",
    "\n",
    "- DataFrame 常见属性：\n",
    "    - index:行索引\n",
    "    - columns:列索引\n",
    "    - values：DataFrame 的值，array形式\n",
    "    - shape:DataFrame的大小\n",
    "\n",
    "- Series 常见方法：print([attr for attr in dir(s) if not attr.startswith('_')]) \n",
    "    - 常见：max  idxmax argmax add append agg drop diff mean  sort_index sort_values argsort\n",
    "\n",
    "- DataFrame 常见方法:print([attr for attr in dir(df) if not attr.startswith('_')])\n",
    "    - 常见：replace apply set_index  sort_values sort_values nlargest join 等"
   ]
  },
  {
   "cell_type": "markdown",
   "metadata": {},
   "source": [
    "#### 【问题二】 value_counts会统计缺失值吗？"
   ]
  },
  {
   "cell_type": "code",
   "execution_count": 66,
   "metadata": {
    "ExecuteTime": {
     "end_time": "2020-04-19T07:07:37.034243Z",
     "start_time": "2020-04-19T07:07:37.026145Z"
    }
   },
   "outputs": [
    {
     "data": {
      "text/html": [
       "<div>\n",
       "<style scoped>\n",
       "    .dataframe tbody tr th:only-of-type {\n",
       "        vertical-align: middle;\n",
       "    }\n",
       "\n",
       "    .dataframe tbody tr th {\n",
       "        vertical-align: top;\n",
       "    }\n",
       "\n",
       "    .dataframe thead th {\n",
       "        text-align: right;\n",
       "    }\n",
       "</style>\n",
       "<table border=\"1\" class=\"dataframe\">\n",
       "  <thead>\n",
       "    <tr style=\"text-align: right;\">\n",
       "      <th></th>\n",
       "      <th>col1</th>\n",
       "      <th>col2</th>\n",
       "      <th>col3</th>\n",
       "    </tr>\n",
       "  </thead>\n",
       "  <tbody>\n",
       "    <tr>\n",
       "      <th>一</th>\n",
       "      <td>a</td>\n",
       "      <td>5</td>\n",
       "      <td>1.3</td>\n",
       "    </tr>\n",
       "    <tr>\n",
       "      <th>二</th>\n",
       "      <td>b</td>\n",
       "      <td>6</td>\n",
       "      <td>2.5</td>\n",
       "    </tr>\n",
       "    <tr>\n",
       "      <th>三</th>\n",
       "      <td>c</td>\n",
       "      <td>7</td>\n",
       "      <td>3.6</td>\n",
       "    </tr>\n",
       "    <tr>\n",
       "      <th>四</th>\n",
       "      <td>d</td>\n",
       "      <td>8</td>\n",
       "      <td>4.6</td>\n",
       "    </tr>\n",
       "    <tr>\n",
       "      <th>五</th>\n",
       "      <td>e</td>\n",
       "      <td>9</td>\n",
       "      <td>NaN</td>\n",
       "    </tr>\n",
       "  </tbody>\n",
       "</table>\n",
       "</div>"
      ],
      "text/plain": [
       "  col1  col2  col3\n",
       "一    a     5   1.3\n",
       "二    b     6   2.5\n",
       "三    c     7   3.6\n",
       "四    d     8   4.6\n",
       "五    e     9   NaN"
      ]
     },
     "execution_count": 66,
     "metadata": {},
     "output_type": "execute_result"
    }
   ],
   "source": [
    "df = pd.DataFrame({'col1':list('abcde'),'col2':range(5,10),'col3':[1.3,2.5,3.6,4.6,None]},\n",
    "                 index=list('一二三四五'))\n",
    "df"
   ]
  },
  {
   "cell_type": "code",
   "execution_count": 67,
   "metadata": {
    "ExecuteTime": {
     "end_time": "2020-04-19T07:07:37.860607Z",
     "start_time": "2020-04-19T07:07:37.854625Z"
    }
   },
   "outputs": [
    {
     "name": "stdout",
     "output_type": "stream",
     "text": [
      "4.6    1\n",
      "3.6    1\n",
      "1.3    1\n",
      "2.5    1\n",
      "Name: col3, dtype: int64\n"
     ]
    }
   ],
   "source": [
    "print(df.col3.value_counts()) \n",
    "###没有统计缺失值"
   ]
  },
  {
   "cell_type": "markdown",
   "metadata": {},
   "source": [
    "#### 【问题三】 与idxmax和nlargest功能相反的是哪两组函数？\n",
    "\n",
    "idxmax返回最大值对应的索引,相反的,idxmin返回最小值对应的索引;nlargest返回最大的n个值,相反地,nsmallest返回最小的n个值"
   ]
  },
  {
   "cell_type": "markdown",
   "metadata": {
    "ExecuteTime": {
     "end_time": "2020-04-19T06:10:31.647755Z",
     "start_time": "2020-04-19T06:10:31.642770Z"
    }
   },
   "source": [
    "- idxmin 和 nsmallest"
   ]
  },
  {
   "cell_type": "markdown",
   "metadata": {
    "ExecuteTime": {
     "end_time": "2020-04-19T06:10:47.595238Z",
     "start_time": "2020-04-19T06:10:47.590145Z"
    }
   },
   "source": [
    "#### 【问题四】 在常用函数一节中，由于一些函数的功能比较简单，因此没有列入，现在将它们列在下面，请分别说明它们的用途并尝试使用。"
   ]
  },
  {
   "cell_type": "code",
   "execution_count": 68,
   "metadata": {
    "ExecuteTime": {
     "end_time": "2020-04-19T07:07:43.164169Z",
     "start_time": "2020-04-19T07:07:43.144230Z"
    },
    "scrolled": true
   },
   "outputs": [
    {
     "data": {
      "text/plain": [
       "a    0.705604\n",
       "b   -1.068664\n",
       "c    0.124638\n",
       "d   -0.220537\n",
       "e    1.086483\n",
       "Name: 这是一个Series, dtype: float64"
      ]
     },
     "execution_count": 68,
     "metadata": {},
     "output_type": "execute_result"
    }
   ],
   "source": [
    "s = pd.Series(np.random.randn(5),index=['a','b','c','d','e'],name='这是一个Series',dtype='float64')\n",
    "s"
   ]
  },
  {
   "cell_type": "code",
   "execution_count": 69,
   "metadata": {
    "ExecuteTime": {
     "end_time": "2020-04-19T07:07:44.294101Z",
     "start_time": "2020-04-19T07:07:44.280138Z"
    },
    "scrolled": true
   },
   "outputs": [
    {
     "name": "stdout",
     "output_type": "stream",
     "text": [
      "求和 s.sum(): 0.6275239255553275 \n",
      "\n",
      "求均值 s.mean(): 0.1255047851110655 \n",
      "\n",
      "求中位数 s.median(): 0.12463818331177048 \n",
      "\n",
      "求绝对离差中位数，是单变量数据集中样本差异性的稳健度量 s.mad(): 0.6164310684285679 \n",
      "\n",
      "求分位数 s.quantile(): 0.12463818331177048 \n",
      "\n",
      "返回一个DataFrame或Series轴上的累积最大值 s.cummax(): \n",
      " a    0.705604\n",
      "b    0.705604\n",
      "c    0.705604\n",
      "d    0.705604\n",
      "e    1.086483\n",
      "Name: 这是一个Series, dtype: float64 \n",
      "\n",
      "返回一个DataFrame或Series轴上的累积和 s.cumsum(): \n",
      " a    0.705604\n",
      "b   -0.363060\n",
      "c   -0.238422\n",
      "d   -0.458959\n",
      "e    0.627524\n",
      "Name: 这是一个Series, dtype: float64 \n",
      "\n",
      "返回一个DataFrame或Series轴上的累积乘积 s.cumprod(): \n",
      " a    0.705604\n",
      "b   -0.754054\n",
      "c   -0.093984\n",
      "d    0.020727\n",
      "e    0.022519\n",
      "Name: 这是一个Series, dtype: float64 \n",
      "\n"
     ]
    }
   ],
   "source": [
    "print('求和 s.sum():',s.sum(),'\\n')\n",
    "print('求均值 s.mean():',s.mean(),'\\n')\n",
    "print('求中位数 s.median():',s.median(),'\\n')\n",
    "print('求绝对离差中位数，是单变量数据集中样本差异性的稳健度量 s.mad():',s.mad(),'\\n')\n",
    "print('求分位数 s.quantile():',s.quantile(),'\\n')\n",
    "print('返回一个DataFrame或Series轴上的累积最大值 s.cummax():','\\n',s.cummax(),'\\n')\n",
    "print('返回一个DataFrame或Series轴上的累积和 s.cumsum():','\\n',s.cumsum(),'\\n')\n",
    "print('返回一个DataFrame或Series轴上的累积乘积 s.cumprod():','\\n',s.cumprod(),'\\n')"
   ]
  },
  {
   "cell_type": "markdown",
   "metadata": {},
   "source": [
    "#### 【问题五】 df.mean(axis=1)是什么意思？它与df.mean()的结果一样吗？第一问提到的函数也有axis参数吗？怎么使用？\n",
    "axis指定轴,0表示求每一列的均值,1表示求每一行的均值."
   ]
  },
  {
   "cell_type": "code",
   "execution_count": 70,
   "metadata": {
    "ExecuteTime": {
     "end_time": "2020-04-19T07:08:00.294741Z",
     "start_time": "2020-04-19T07:08:00.279390Z"
    }
   },
   "outputs": [
    {
     "data": {
      "text/html": [
       "<div>\n",
       "<style scoped>\n",
       "    .dataframe tbody tr th:only-of-type {\n",
       "        vertical-align: middle;\n",
       "    }\n",
       "\n",
       "    .dataframe tbody tr th {\n",
       "        vertical-align: top;\n",
       "    }\n",
       "\n",
       "    .dataframe thead th {\n",
       "        text-align: right;\n",
       "    }\n",
       "</style>\n",
       "<table border=\"1\" class=\"dataframe\">\n",
       "  <thead>\n",
       "    <tr style=\"text-align: right;\">\n",
       "      <th></th>\n",
       "      <th>col1</th>\n",
       "      <th>col2</th>\n",
       "      <th>col3</th>\n",
       "    </tr>\n",
       "  </thead>\n",
       "  <tbody>\n",
       "    <tr>\n",
       "      <th>一</th>\n",
       "      <td>a</td>\n",
       "      <td>5</td>\n",
       "      <td>1.3</td>\n",
       "    </tr>\n",
       "    <tr>\n",
       "      <th>二</th>\n",
       "      <td>b</td>\n",
       "      <td>6</td>\n",
       "      <td>2.5</td>\n",
       "    </tr>\n",
       "    <tr>\n",
       "      <th>三</th>\n",
       "      <td>c</td>\n",
       "      <td>7</td>\n",
       "      <td>3.6</td>\n",
       "    </tr>\n",
       "    <tr>\n",
       "      <th>四</th>\n",
       "      <td>d</td>\n",
       "      <td>8</td>\n",
       "      <td>4.6</td>\n",
       "    </tr>\n",
       "    <tr>\n",
       "      <th>五</th>\n",
       "      <td>e</td>\n",
       "      <td>9</td>\n",
       "      <td>NaN</td>\n",
       "    </tr>\n",
       "  </tbody>\n",
       "</table>\n",
       "</div>"
      ],
      "text/plain": [
       "  col1  col2  col3\n",
       "一    a     5   1.3\n",
       "二    b     6   2.5\n",
       "三    c     7   3.6\n",
       "四    d     8   4.6\n",
       "五    e     9   NaN"
      ]
     },
     "execution_count": 70,
     "metadata": {},
     "output_type": "execute_result"
    }
   ],
   "source": [
    "df"
   ]
  },
  {
   "cell_type": "code",
   "execution_count": 71,
   "metadata": {
    "ExecuteTime": {
     "end_time": "2020-04-19T07:08:00.974175Z",
     "start_time": "2020-04-19T07:08:00.967196Z"
    }
   },
   "outputs": [
    {
     "data": {
      "text/plain": [
       "一    3.15\n",
       "二    4.25\n",
       "三    5.30\n",
       "四    6.30\n",
       "五    9.00\n",
       "dtype: float64"
      ]
     },
     "execution_count": 71,
     "metadata": {},
     "output_type": "execute_result"
    }
   ],
   "source": [
    "df.mean(axis=1)"
   ]
  },
  {
   "cell_type": "code",
   "execution_count": 72,
   "metadata": {
    "ExecuteTime": {
     "end_time": "2020-04-19T07:08:01.621673Z",
     "start_time": "2020-04-19T07:08:01.615206Z"
    }
   },
   "outputs": [
    {
     "data": {
      "text/plain": [
       "col2    7.0\n",
       "col3    3.0\n",
       "dtype: float64"
      ]
     },
     "execution_count": 72,
     "metadata": {},
     "output_type": "execute_result"
    }
   ],
   "source": [
    "df.mean(axis=0)"
   ]
  },
  {
   "cell_type": "markdown",
   "metadata": {},
   "source": [
    "### 2. 练习\n",
    "#### 【练习一】 现有一份关于美剧《权力的游戏》剧本的数据集，请解决以下问题：\n",
    "#### （a）在所有的数据中，一共出现了多少人物？\n"
   ]
  },
  {
   "cell_type": "code",
   "execution_count": 73,
   "metadata": {
    "ExecuteTime": {
     "end_time": "2020-04-19T07:08:03.107121Z",
     "start_time": "2020-04-19T07:08:03.046896Z"
    },
    "scrolled": true
   },
   "outputs": [
    {
     "data": {
      "text/plain": [
       "564"
      ]
     },
     "execution_count": 73,
     "metadata": {},
     "output_type": "execute_result"
    }
   ],
   "source": [
    "Thrones=pd.read_csv('data//Game_of_Thrones_Script.csv')\n",
    "Thrones.Name.nunique()"
   ]
  },
  {
   "cell_type": "markdown",
   "metadata": {},
   "source": [
    "#### （b）以单元格计数（即简单把一个单元格视作一句），谁说了最多的话？"
   ]
  },
  {
   "cell_type": "code",
   "execution_count": 74,
   "metadata": {
    "ExecuteTime": {
     "end_time": "2020-04-19T07:08:04.643676Z",
     "start_time": "2020-04-19T07:08:04.634702Z"
    }
   },
   "outputs": [
    {
     "data": {
      "text/plain": [
       "tyrion lannister        1760\n",
       "jon snow                1133\n",
       "daenerys targaryen      1048\n",
       "cersei lannister        1005\n",
       "jaime lannister          945\n",
       "                        ... \n",
       "slave buyer                1\n",
       "rhaegar                    1\n",
       "little sam                 1\n",
       "shadow tower brother       1\n",
       "tomard                     1\n",
       "Name: Name, Length: 564, dtype: int64"
      ]
     },
     "execution_count": 74,
     "metadata": {},
     "output_type": "execute_result"
    }
   ],
   "source": [
    "Thrones.Name.value_counts()\n",
    "##tyrion lannister 说的最多，1760句"
   ]
  },
  {
   "cell_type": "markdown",
   "metadata": {},
   "source": [
    "#### （c）以单词计数，谁说了最多的单词？"
   ]
  },
  {
   "cell_type": "code",
   "execution_count": 75,
   "metadata": {
    "ExecuteTime": {
     "end_time": "2020-04-19T07:08:06.276666Z",
     "start_time": "2020-04-19T07:08:06.081856Z"
    }
   },
   "outputs": [],
   "source": [
    "import re \n",
    "Thrones['Sentence']= Thrones['Sentence'].apply(lambda x:re.sub('[^a-z]+', ' ', x.replace(\"n't\", 'not').strip()))\n",
    "Thrones['words_cnt']=Thrones.Sentence.apply(lambda x :len(x.split(' ')))"
   ]
  },
  {
   "cell_type": "code",
   "execution_count": 76,
   "metadata": {
    "ExecuteTime": {
     "end_time": "2020-04-19T07:08:06.947814Z",
     "start_time": "2020-04-19T07:08:06.935847Z"
    }
   },
   "outputs": [
    {
     "data": {
      "text/html": [
       "<div>\n",
       "<style scoped>\n",
       "    .dataframe tbody tr th:only-of-type {\n",
       "        vertical-align: middle;\n",
       "    }\n",
       "\n",
       "    .dataframe tbody tr th {\n",
       "        vertical-align: top;\n",
       "    }\n",
       "\n",
       "    .dataframe thead th {\n",
       "        text-align: right;\n",
       "    }\n",
       "</style>\n",
       "<table border=\"1\" class=\"dataframe\">\n",
       "  <thead>\n",
       "    <tr style=\"text-align: right;\">\n",
       "      <th></th>\n",
       "      <th>words_cnt</th>\n",
       "    </tr>\n",
       "    <tr>\n",
       "      <th>Name</th>\n",
       "      <th></th>\n",
       "    </tr>\n",
       "  </thead>\n",
       "  <tbody>\n",
       "    <tr>\n",
       "      <th>tyrion lannister</th>\n",
       "      <td>29192</td>\n",
       "    </tr>\n",
       "    <tr>\n",
       "      <th>cersei lannister</th>\n",
       "      <td>16341</td>\n",
       "    </tr>\n",
       "    <tr>\n",
       "      <th>jon snow</th>\n",
       "      <td>14455</td>\n",
       "    </tr>\n",
       "    <tr>\n",
       "      <th>daenerys targaryen</th>\n",
       "      <td>14105</td>\n",
       "    </tr>\n",
       "    <tr>\n",
       "      <th>jaime lannister</th>\n",
       "      <td>13636</td>\n",
       "    </tr>\n",
       "    <tr>\n",
       "      <th>...</th>\n",
       "      <td>...</td>\n",
       "    </tr>\n",
       "    <tr>\n",
       "      <th>title</th>\n",
       "      <td>2</td>\n",
       "    </tr>\n",
       "    <tr>\n",
       "      <th>cold</th>\n",
       "      <td>2</td>\n",
       "    </tr>\n",
       "    <tr>\n",
       "      <th>slave buyer</th>\n",
       "      <td>2</td>\n",
       "    </tr>\n",
       "    <tr>\n",
       "      <th>main</th>\n",
       "      <td>2</td>\n",
       "    </tr>\n",
       "    <tr>\n",
       "      <th>dothraki woman</th>\n",
       "      <td>2</td>\n",
       "    </tr>\n",
       "  </tbody>\n",
       "</table>\n",
       "<p>564 rows × 1 columns</p>\n",
       "</div>"
      ],
      "text/plain": [
       "                    words_cnt\n",
       "Name                         \n",
       "tyrion lannister        29192\n",
       "cersei lannister        16341\n",
       "jon snow                14455\n",
       "daenerys targaryen      14105\n",
       "jaime lannister         13636\n",
       "...                       ...\n",
       "title                       2\n",
       "cold                        2\n",
       "slave buyer                 2\n",
       "main                        2\n",
       "dothraki woman              2\n",
       "\n",
       "[564 rows x 1 columns]"
      ]
     },
     "execution_count": 76,
     "metadata": {},
     "output_type": "execute_result"
    }
   ],
   "source": [
    "Thrones.groupby('Name').agg({'words_cnt':'sum'}).sort_values(by='words_cnt',ascending=False)\n",
    "### tyrion lannister说的单词最多，29192个"
   ]
  },
  {
   "cell_type": "markdown",
   "metadata": {},
   "source": [
    "#### 【练习二】现有一份关于科比的投篮数据集，请解决如下问题：\n",
    "#### （a）哪种action_type和combined_shot_type的组合是最多的？"
   ]
  },
  {
   "cell_type": "code",
   "execution_count": 77,
   "metadata": {
    "ExecuteTime": {
     "end_time": "2020-04-19T07:08:08.820132Z",
     "start_time": "2020-04-19T07:08:08.683478Z"
    },
    "scrolled": false
   },
   "outputs": [
    {
     "data": {
      "text/html": [
       "<div>\n",
       "<style scoped>\n",
       "    .dataframe tbody tr th:only-of-type {\n",
       "        vertical-align: middle;\n",
       "    }\n",
       "\n",
       "    .dataframe tbody tr th {\n",
       "        vertical-align: top;\n",
       "    }\n",
       "\n",
       "    .dataframe thead th {\n",
       "        text-align: right;\n",
       "    }\n",
       "</style>\n",
       "<table border=\"1\" class=\"dataframe\">\n",
       "  <thead>\n",
       "    <tr style=\"text-align: right;\">\n",
       "      <th></th>\n",
       "      <th>action_type</th>\n",
       "      <th>combined_shot_type</th>\n",
       "      <th>game_event_id</th>\n",
       "      <th>game_id</th>\n",
       "      <th>lat</th>\n",
       "      <th>loc_x</th>\n",
       "      <th>loc_y</th>\n",
       "      <th>lon</th>\n",
       "      <th>minutes_remaining</th>\n",
       "      <th>period</th>\n",
       "      <th>...</th>\n",
       "      <th>shot_made_flag</th>\n",
       "      <th>shot_type</th>\n",
       "      <th>shot_zone_area</th>\n",
       "      <th>shot_zone_basic</th>\n",
       "      <th>shot_zone_range</th>\n",
       "      <th>team_id</th>\n",
       "      <th>team_name</th>\n",
       "      <th>game_date</th>\n",
       "      <th>matchup</th>\n",
       "      <th>opponent</th>\n",
       "    </tr>\n",
       "    <tr>\n",
       "      <th>shot_id</th>\n",
       "      <th></th>\n",
       "      <th></th>\n",
       "      <th></th>\n",
       "      <th></th>\n",
       "      <th></th>\n",
       "      <th></th>\n",
       "      <th></th>\n",
       "      <th></th>\n",
       "      <th></th>\n",
       "      <th></th>\n",
       "      <th></th>\n",
       "      <th></th>\n",
       "      <th></th>\n",
       "      <th></th>\n",
       "      <th></th>\n",
       "      <th></th>\n",
       "      <th></th>\n",
       "      <th></th>\n",
       "      <th></th>\n",
       "      <th></th>\n",
       "      <th></th>\n",
       "    </tr>\n",
       "  </thead>\n",
       "  <tbody>\n",
       "    <tr>\n",
       "      <th>1</th>\n",
       "      <td>Jump Shot</td>\n",
       "      <td>Jump Shot</td>\n",
       "      <td>10</td>\n",
       "      <td>20000012</td>\n",
       "      <td>33.9723</td>\n",
       "      <td>167</td>\n",
       "      <td>72</td>\n",
       "      <td>-118.1028</td>\n",
       "      <td>10</td>\n",
       "      <td>1</td>\n",
       "      <td>...</td>\n",
       "      <td>NaN</td>\n",
       "      <td>2PT Field Goal</td>\n",
       "      <td>Right Side(R)</td>\n",
       "      <td>Mid-Range</td>\n",
       "      <td>16-24 ft.</td>\n",
       "      <td>1610612747</td>\n",
       "      <td>Los Angeles Lakers</td>\n",
       "      <td>2000/10/31</td>\n",
       "      <td>LAL @ POR</td>\n",
       "      <td>POR</td>\n",
       "    </tr>\n",
       "    <tr>\n",
       "      <th>2</th>\n",
       "      <td>Jump Shot</td>\n",
       "      <td>Jump Shot</td>\n",
       "      <td>12</td>\n",
       "      <td>20000012</td>\n",
       "      <td>34.0443</td>\n",
       "      <td>-157</td>\n",
       "      <td>0</td>\n",
       "      <td>-118.4268</td>\n",
       "      <td>10</td>\n",
       "      <td>1</td>\n",
       "      <td>...</td>\n",
       "      <td>0.0</td>\n",
       "      <td>2PT Field Goal</td>\n",
       "      <td>Left Side(L)</td>\n",
       "      <td>Mid-Range</td>\n",
       "      <td>8-16 ft.</td>\n",
       "      <td>1610612747</td>\n",
       "      <td>Los Angeles Lakers</td>\n",
       "      <td>2000/10/31</td>\n",
       "      <td>LAL @ POR</td>\n",
       "      <td>POR</td>\n",
       "    </tr>\n",
       "    <tr>\n",
       "      <th>3</th>\n",
       "      <td>Jump Shot</td>\n",
       "      <td>Jump Shot</td>\n",
       "      <td>35</td>\n",
       "      <td>20000012</td>\n",
       "      <td>33.9093</td>\n",
       "      <td>-101</td>\n",
       "      <td>135</td>\n",
       "      <td>-118.3708</td>\n",
       "      <td>7</td>\n",
       "      <td>1</td>\n",
       "      <td>...</td>\n",
       "      <td>1.0</td>\n",
       "      <td>2PT Field Goal</td>\n",
       "      <td>Left Side Center(LC)</td>\n",
       "      <td>Mid-Range</td>\n",
       "      <td>16-24 ft.</td>\n",
       "      <td>1610612747</td>\n",
       "      <td>Los Angeles Lakers</td>\n",
       "      <td>2000/10/31</td>\n",
       "      <td>LAL @ POR</td>\n",
       "      <td>POR</td>\n",
       "    </tr>\n",
       "  </tbody>\n",
       "</table>\n",
       "<p>3 rows × 24 columns</p>\n",
       "</div>"
      ],
      "text/plain": [
       "        action_type combined_shot_type  game_event_id   game_id      lat  \\\n",
       "shot_id                                                                    \n",
       "1         Jump Shot          Jump Shot             10  20000012  33.9723   \n",
       "2         Jump Shot          Jump Shot             12  20000012  34.0443   \n",
       "3         Jump Shot          Jump Shot             35  20000012  33.9093   \n",
       "\n",
       "         loc_x  loc_y       lon  minutes_remaining  period  ...  \\\n",
       "shot_id                                                     ...   \n",
       "1          167     72 -118.1028                 10       1  ...   \n",
       "2         -157      0 -118.4268                 10       1  ...   \n",
       "3         -101    135 -118.3708                  7       1  ...   \n",
       "\n",
       "         shot_made_flag       shot_type        shot_zone_area  \\\n",
       "shot_id                                                         \n",
       "1                   NaN  2PT Field Goal         Right Side(R)   \n",
       "2                   0.0  2PT Field Goal          Left Side(L)   \n",
       "3                   1.0  2PT Field Goal  Left Side Center(LC)   \n",
       "\n",
       "         shot_zone_basic  shot_zone_range     team_id           team_name  \\\n",
       "shot_id                                                                     \n",
       "1              Mid-Range        16-24 ft.  1610612747  Los Angeles Lakers   \n",
       "2              Mid-Range         8-16 ft.  1610612747  Los Angeles Lakers   \n",
       "3              Mid-Range        16-24 ft.  1610612747  Los Angeles Lakers   \n",
       "\n",
       "          game_date    matchup  opponent  \n",
       "shot_id                                   \n",
       "1        2000/10/31  LAL @ POR       POR  \n",
       "2        2000/10/31  LAL @ POR       POR  \n",
       "3        2000/10/31  LAL @ POR       POR  \n",
       "\n",
       "[3 rows x 24 columns]"
      ]
     },
     "execution_count": 77,
     "metadata": {},
     "output_type": "execute_result"
    }
   ],
   "source": [
    "kobe=pd.read_csv('data/Kobe_data.csv',index_col='shot_id')#index_col的作用是将某一列作为行索引\n",
    "kobe.head(3)"
   ]
  },
  {
   "cell_type": "code",
   "execution_count": 78,
   "metadata": {
    "ExecuteTime": {
     "end_time": "2020-04-19T07:08:10.031706Z",
     "start_time": "2020-04-19T07:08:10.015582Z"
    }
   },
   "outputs": [
    {
     "data": {
      "text/plain": [
       "action_type         combined_shot_type\n",
       "Jump Shot           Jump Shot             18880\n",
       "Layup Shot          Layup                  2567\n",
       "Driving Layup Shot  Layup                  1978\n",
       "Name: game_event_id, dtype: int64"
      ]
     },
     "execution_count": 78,
     "metadata": {},
     "output_type": "execute_result"
    }
   ],
   "source": [
    "kobe.groupby(['action_type','combined_shot_type']).game_event_id.count().sort_values(ascending=False).head(3)\n",
    "##Jump Shot + Jump Shot 最多， 18880条"
   ]
  },
  {
   "cell_type": "markdown",
   "metadata": {},
   "source": [
    "#### （b）在所有被记录的game_id中，遭遇到最多的opponent是一个支？"
   ]
  },
  {
   "cell_type": "code",
   "execution_count": 79,
   "metadata": {
    "ExecuteTime": {
     "end_time": "2020-04-19T07:08:11.794925Z",
     "start_time": "2020-04-19T07:08:11.782856Z"
    }
   },
   "outputs": [
    {
     "data": {
      "text/plain": [
       "SAS    91\n",
       "PHX    87\n",
       "UTA    84\n",
       "Name: opponent, dtype: int64"
      ]
     },
     "execution_count": 79,
     "metadata": {},
     "output_type": "execute_result"
    }
   ],
   "source": [
    "tmp=kobe[['game_id','opponent']].drop_duplicates()\n",
    "tmp.opponent.value_counts()[:3]\n",
    "##SAS 最多，91次"
   ]
  },
  {
   "cell_type": "code",
   "execution_count": null,
   "metadata": {},
   "outputs": [],
   "source": []
  }
 ],
 "metadata": {
  "kernelspec": {
   "display_name": "Python 3",
   "language": "python",
   "name": "python3"
  },
  "language_info": {
   "codemirror_mode": {
    "name": "ipython",
    "version": 3
   },
   "file_extension": ".py",
   "mimetype": "text/x-python",
   "name": "python",
   "nbconvert_exporter": "python",
   "pygments_lexer": "ipython3",
   "version": "3.7.1"
  },
  "toc": {
   "base_numbering": 1,
   "nav_menu": {},
   "number_sections": true,
   "sideBar": true,
   "skip_h1_title": false,
   "title_cell": "Table of Contents",
   "title_sidebar": "Contents",
   "toc_cell": false,
   "toc_position": {
    "height": "calc(100% - 180px)",
    "left": "10px",
    "top": "150px",
    "width": "284.444px"
   },
   "toc_section_display": true,
   "toc_window_display": true
  }
 },
 "nbformat": 4,
 "nbformat_minor": 2
}
