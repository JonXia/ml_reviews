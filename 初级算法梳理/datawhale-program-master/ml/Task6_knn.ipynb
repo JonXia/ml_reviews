{
 "cells": [
  {
   "cell_type": "markdown",
   "metadata": {},
   "source": [
    "# KNN（K最近邻分类）算法"
   ]
  },
  {
   "cell_type": "markdown",
   "metadata": {},
   "source": [
    "如果有一个数据集中，有N类数据。输入没有标分类的数据集后，我们可以将预测集中的数据，和训练集的数据相比较，提取和预测数据最相似（距离最近）的K个数据，选择这K个数据中出现次数最多的标签，作为新数据的分类。\n",
    "\n"
   ]
  },
  {
   "cell_type": "markdown",
   "metadata": {},
   "source": [
    "KNN算法的思想非常简洁直观：\n",
    "\n",
    "1、计算测试数据与各个训练数据之间的距离； \n",
    "    \n",
    "2、按照距离的递增关系进行排序；  \n",
    "   \n",
    "3、选取距离最小的K个点；  \n",
    "   \n",
    "4、确定前K个点所在类别的出现频率； \n",
    "   \n",
    "5、返回前K个点中出现频率最高的类别作为测试数据的预测分类。"
   ]
  },
  {
   "cell_type": "markdown",
   "metadata": {},
   "source": [
    "### KNN算法的优点：\n",
    "1、简单，易于实现； \n",
    " \n",
    "2、因为找的是最近邻的数据点，因此当某些点数量稀少时，划分越准确，适合对稀有点分类； \n",
    " \n",
    "3、使用多分类问题。"
   ]
  },
  {
   "cell_type": "markdown",
   "metadata": {},
   "source": [
    "## 算法实现"
   ]
  },
  {
   "cell_type": "markdown",
   "metadata": {},
   "source": [
    "我们利用一个案例，按照KNN算法的思想，逐步实现算法。"
   ]
  },
  {
   "cell_type": "markdown",
   "metadata": {},
   "source": [
    "### KNN案例：优化约会网站的配对效果\n",
    "\n",
    "\n",
    "<b>项目概述</b>\n",
    "\n",
    "海伦使用约会网站寻找约会对象。经过一段时间之后，她发现曾交往过三种类型的人:\n",
    "\n",
    "- 1：不喜欢的人\n",
    "- 2：魅力一般的人\n",
    "- 3：极具魅力的人\n",
    "\n",
    "\n",
    "她希望：\n",
    "\n",
    "- 不喜欢的人则直接排除掉\n",
    "- 工作日与魅力一般的人约会\n",
    "- 周末与极具魅力的人约会\n",
    "\n",
    "\n",
    "现在她收集到了一些约会网站未曾记录的数据信息，这更有助于匹配对象的归类。\n",
    "\n",
    "<b>开发流程</b>\n",
    "\n",
    "海伦把这些约会对象的数据存放在文本文件 datingTestSet2.txt 中，总共有 1000 行。海伦约会的对象主要包含以下 3 种特征：\n",
    "\n",
    "- `Col1`：每年获得的飞行常客里程数 \n",
    "- `Col2`：玩视频游戏所耗时间百分比 \n",
    "- `Col3`：每周消费的冰淇淋公升数 \n",
    "\n",
    "文本文件数据格式如下：\n",
    "```python\n",
    "40920\t8.326976\t0.953952\t3\n",
    "14488\t7.153469\t1.673904\t2\n",
    "26052\t1.441871\t0.805124\t1\n",
    "75136\t13.147394\t0.428964\t1\n",
    "38344\t1.669788\t0.134296\t1\n"
   ]
  },
  {
   "cell_type": "markdown",
   "metadata": {},
   "source": [
    "#### 读取数据"
   ]
  },
  {
   "cell_type": "code",
   "execution_count": 6,
   "metadata": {
    "ExecuteTime": {
     "end_time": "2020-01-21T13:20:15.724917Z",
     "start_time": "2020-01-21T13:20:15.714909Z"
    }
   },
   "outputs": [],
   "source": [
    "import matplotlib.pyplot as plt\n",
    "import pandas as pd\n",
    "import numpy as np\n",
    "data = pd.read_csv('datingTestSet2.txt',sep = '\\t',header = None)\n",
    "X = np.array(data.iloc[:,:-1]) \n",
    "y = np.array(data.iloc[:,-1])"
   ]
  },
  {
   "cell_type": "markdown",
   "metadata": {},
   "source": [
    "#### 切分数据\n",
    "\n",
    "我们可以直接调用sklearn的函数将数据集切分为训练集和测试集"
   ]
  },
  {
   "cell_type": "code",
   "execution_count": 7,
   "metadata": {
    "ExecuteTime": {
     "end_time": "2020-01-21T13:20:18.501352Z",
     "start_time": "2020-01-21T13:20:18.432519Z"
    }
   },
   "outputs": [],
   "source": [
    "from sklearn.model_selection import train_test_split  \n",
    "X_train, X_test, y_train, y_test = train_test_split(X, y, test_size=0.2)"
   ]
  },
  {
   "cell_type": "markdown",
   "metadata": {},
   "source": [
    "计算测试集数据和训练集间的距离，进行分类。 \n",
    " \n",
    "我们先用最简单的思想分类：将想要预测的样本，和训练集中每个样本的特征直接相减的绝对值之和作为距离，将距离最近的训练样本的标签标记为预测样本的标签。"
   ]
  },
  {
   "cell_type": "code",
   "execution_count": 8,
   "metadata": {
    "ExecuteTime": {
     "end_time": "2020-01-21T13:20:19.279674Z",
     "start_time": "2020-01-21T13:20:19.272692Z"
    }
   },
   "outputs": [],
   "source": [
    "class KNN:\n",
    "    def __init__(self):\n",
    "        pass\n",
    "    def train(self,X_train,y_train):\n",
    "        #读取训练集\n",
    "        self.X_train = np.array(X_train) \n",
    "        self.y_train = np.array(y_train)\n",
    "    def predict(self,X_test):\n",
    "        (m,d) = np.shape(X_test) #测试集的数量和特征数\n",
    "        y_pred = np.zeros((m)) #将预测的标签初始化为0\n",
    "        for i in range(m):    \n",
    "            distance = np.sum(np.abs(self.Xtrain - X_test[i,:]),axis = 1) #求距离的绝对之和\n",
    "            min_index = np.argmin(distance) #找到最近点的索引\n",
    "            y_pred[i] = self.y_train[min_index] #将最近点的分类给新数据标记\n",
    "        return y_pred"
   ]
  },
  {
   "cell_type": "markdown",
   "metadata": {},
   "source": [
    "我们可以将这个算法称为“最近邻算法“，直接取找最近的一个数据进行分类标记，我们将这个算法扩展到K近邻算法。"
   ]
  },
  {
   "cell_type": "markdown",
   "metadata": {},
   "source": [
    "可以扩展的方向：\n",
    "* 选择不同的距离公式\n",
    "* 选择不同的K值"
   ]
  },
  {
   "cell_type": "markdown",
   "metadata": {},
   "source": [
    "#### 选择不同的距离公式：\n",
    "上一个算法中用的距离公式为曼哈顿距离，将参数特征相减的绝对值求和，即L1距离。我们还可以用L2距离，"
   ]
  },
  {
   "cell_type": "markdown",
   "metadata": {},
   "source": [
    "曼哈顿距离：$$d_1(I_1,I_2) = \\sum_P|I_1^p - I_2^p|$$"
   ]
  },
  {
   "cell_type": "markdown",
   "metadata": {},
   "source": [
    "欧式距离：$$d_2(I_1,I_2) = \\sum_P\\sqrt{(I_1^p - I_2^p)^2}$$"
   ]
  },
  {
   "cell_type": "markdown",
   "metadata": {},
   "source": [
    "打个比方来说，当你搜索地图上的两个点，欧式距离就是将两个点用直线相连的空间距离；曼哈顿距离衡量的是你从A点开车到B点的距离，因为你不能穿过大楼和墙壁，所以衡量的是横向路线和纵向路线的的加总距离。  \n",
    "  \n",
    "KNN算法中，欧式距离用的更多，因为我们一般衡量变量特征的在多维空间中的距离，这时候不需要“开车绕墙”。 \n",
    " \n",
    "如有兴趣，可自行学习其他距离公式，添加到我们后面的算法中。"
   ]
  },
  {
   "cell_type": "markdown",
   "metadata": {},
   "source": [
    "#### 选择不同的K值\n",
    "我们不再是选取排序后距离最近的一个训练数据打标签，而是选择距离最近的前K个训练数据，找到大多数近邻归属的类别，将预测值归为此类。"
   ]
  },
  {
   "cell_type": "markdown",
   "metadata": {},
   "source": [
    "排序和计数我们可以直接调用argsort函数和Counter函数 \n",
    " \n",
    "按照以上思想，我们重新改写KNN算法："
   ]
  },
  {
   "cell_type": "code",
   "execution_count": 9,
   "metadata": {
    "ExecuteTime": {
     "end_time": "2020-01-21T13:20:23.098957Z",
     "start_time": "2020-01-21T13:20:23.090976Z"
    }
   },
   "outputs": [],
   "source": [
    "from collections import  Counter\n",
    "class KNN:\n",
    "    def __init__(self,k=1,metric ='euclidean'): #默认距离算法为欧式距离，默认最近邻\n",
    "        self.metric = metric\n",
    "        self.k = k\n",
    "    def train(self,X_train,y_train):\n",
    "        self.X_train = np.array(X_train)\n",
    "        self.y_train = np.array(y_train)\n",
    "    def predict(self,x_test):\n",
    "        (m,d) = np.shape(x)#测试集的数量和特征数\n",
    "        y_pred = np.zeros((m))#将预测的标签初始化为0\n",
    "        for i in range(m):  \n",
    "            if self.metric == 'manhattan':\n",
    "                distances = np.sum(np.abs(self.X_train - X_test[i,:]),axis = 1) #曼哈顿距离\n",
    "            if self.metric == 'euclidean':\n",
    "                distances = np.sqrt(np.sum(np.square(self.X_train - X_test[i,:]),axis = 1)) #欧式距离\n",
    "            \n",
    "            #距离排序\n",
    "            top_K = [self.y_train[i] for i in sort[:self.k]] #找到K个近邻\n",
    "            k_counts = Counter(top_K) #对K个近邻的分类计出现频率\n",
    "            label = k_counts.most_common(1)[0][0] #将占大多数的那个分类标记为新数据的标签\n",
    "            ypred[i] = label\n",
    "        return ypred"
   ]
  },
  {
   "cell_type": "markdown",
   "metadata": {},
   "source": [
    "*可能你会问，如果两个分类刚好数量相等怎么办？可以有多种方法进行处理，如随机分类，如比较两类的距离总长度，我们这里不做更多处理，按Counter函数默认给出的分类。*"
   ]
  },
  {
   "cell_type": "markdown",
   "metadata": {},
   "source": [
    "#### 选择K值"
   ]
  },
  {
   "cell_type": "markdown",
   "metadata": {},
   "source": [
    "那么到底如何选择K值呢？我们可以选择在测试集中表现最好的K值。 \n",
    " \n",
    "本任务中我们直接调用sklearn中的kFold函数，将数据集进行k折验证，取每次验证的评分平均值作为此K值的误差评分。（这两个k表示的意思不一样，请留意）"
   ]
  },
  {
   "cell_type": "markdown",
   "metadata": {},
   "source": [
    "如何定义测试结果的评分呢？可以直观地将分类正确的比例作为衡量指标。定义准确度的函数为："
   ]
  },
  {
   "cell_type": "code",
   "execution_count": 10,
   "metadata": {
    "ExecuteTime": {
     "end_time": "2020-01-21T13:20:25.849932Z",
     "start_time": "2020-01-21T13:20:25.844946Z"
    }
   },
   "outputs": [],
   "source": [
    "def score(ypred,ytest):\n",
    "    return sum(ypred == ytest)/len(ytest)"
   ]
  },
  {
   "cell_type": "markdown",
   "metadata": {},
   "source": [
    "将我们自己撰写的分类器中添加评分函数，这就是一个相对完整的分类器了，我们可以将他和sklearn的结果做比较"
   ]
  },
  {
   "cell_type": "code",
   "execution_count": 11,
   "metadata": {
    "ExecuteTime": {
     "end_time": "2020-01-21T13:20:27.130924Z",
     "start_time": "2020-01-21T13:20:27.120950Z"
    }
   },
   "outputs": [],
   "source": [
    "from collections import  Counter\n",
    "class KNN:\n",
    "    def __init__(self,k,metric ='euclidean'):\n",
    "        pass\n",
    "        self.metric = metric\n",
    "        self.k = k\n",
    "    def train(self,X,y):\n",
    "        self.X_train = np.array(X)\n",
    "        self.y_train = np.array(y)\n",
    "    def predict(self,x_test):\n",
    "        x = np.array(x_test)\n",
    "        (m,d) = np.shape(x)\n",
    "        ypred = np.zeros((m))\n",
    "        for i in range(m):  \n",
    "            if self.metric == 'manhattan':\n",
    "                distances = np.sum(np.abs(self.X_train - x[i,:]),axis = 1)\n",
    "            if self.metric == 'euclidean':\n",
    "                distances = np.sqrt(np.sum(np.square(self.X_train - x[i,:]),axis = 1))\n",
    "            \n",
    "            nearest = np.argsort(distances)\n",
    "            #print(len(nearest))\n",
    "            top_K = [self.y_train[i] for i in nearest[:self.k]]\n",
    "            votes = Counter(top_K)\n",
    "            label = votes.most_common(1)[0][0]\n",
    "            #min_index = np.argmin(distance)\n",
    "            #ypred[i] = self.ytrain[min_index]\n",
    "            ypred[i] = label\n",
    "        return ypred\n",
    "    def score(self,ypred,ytest):\n",
    "        return sum(ypred == ytest)/len(ytest)\n",
    "    "
   ]
  },
  {
   "cell_type": "markdown",
   "metadata": {},
   "source": [
    "#### 和sklearn的KNeighborsClassifier算法做比较"
   ]
  },
  {
   "cell_type": "code",
   "execution_count": 12,
   "metadata": {
    "ExecuteTime": {
     "end_time": "2020-01-21T13:20:28.454230Z",
     "start_time": "2020-01-21T13:20:28.448248Z"
    }
   },
   "outputs": [],
   "source": [
    "#数据标准化\n",
    "from sklearn.preprocessing import StandardScaler\n",
    "ss = StandardScaler()\n",
    "\n",
    "X_ = ss.fit(X)\n",
    "X_std =ss.transform(X)"
   ]
  },
  {
   "cell_type": "code",
   "execution_count": 13,
   "metadata": {
    "ExecuteTime": {
     "end_time": "2020-01-21T13:20:30.733216Z",
     "start_time": "2020-01-21T13:20:29.368788Z"
    },
    "scrolled": false
   },
   "outputs": [
    {
     "data": {
      "image/png": "[encoded data removed]",
      "text/plain": [
       "<Figure size 432x288 with 1 Axes>"
      ]
     },
     "metadata": {
      "needs_background": "light"
     },
     "output_type": "display_data"
    }
   ],
   "source": [
    "from sklearn.model_selection  import cross_val_score\n",
    "import matplotlib.pyplot as plt\n",
    "from sklearn.neighbors import KNeighborsClassifier\n",
    "\n",
    "k_range = range(1, 31)\n",
    "k_error = []\n",
    "#循环，取k=1到k=31，查看误差效果\n",
    "for k in k_range:\n",
    "    knn = KNeighborsClassifier(n_neighbors=k)\n",
    "    #cv参数决定数据集划分比例，这里是按照5:1划分训练集和测试集\n",
    "    scores = cross_val_score(knn, X_std, y, cv=5, scoring='accuracy')\n",
    "    k_error.append(1 - scores.mean())\n",
    "\n",
    "#画图，x轴为k值，y值为误差值\n",
    "plt.plot(k_range, k_error)\n",
    "plt.xlabel('Value of K for KNN')\n",
    "plt.ylabel('Error')\n",
    "plt.show()"
   ]
  },
  {
   "cell_type": "markdown",
   "metadata": {},
   "source": [
    "用我们自己撰写的K近邻算法测试数据，用同样的作图法输出每个K值的误差结果。"
   ]
  },
  {
   "cell_type": "code",
   "execution_count": 17,
   "metadata": {
    "ExecuteTime": {
     "end_time": "2020-01-21T14:11:35.869575Z",
     "start_time": "2020-01-21T14:11:33.236779Z"
    },
    "scrolled": false
   },
   "outputs": [
    {
     "data": {
      "image/png": "[encoded data removed]",
      "text/plain": [
       "<Figure size 432x288 with 1 Axes>"
      ]
     },
     "metadata": {
      "needs_background": "light"
     },
     "output_type": "display_data"
    }
   ],
   "source": [
    "from sklearn.model_selection import KFold\n",
    "kf = KFold(n_splits=5,shuffle=False) #将数据集分为互斥的5等份，用作测试\n",
    "k_errors = [] #建立初始的误差列表\n",
    "for k in k_range:\n",
    "    knn = KNN(k=k)\n",
    "    scores = []\n",
    "    for train , test in kf.split(X_std,y):\n",
    "        knn.train(X_std[train],y[train])\n",
    "        ypred = knn.predict(X_std[test])\n",
    "        score = knn.score(ypred,y[test])\n",
    "        scores.append(1-score)\n",
    "    k_errors.append(np.mean(scores))\n",
    "\n",
    "plt.plot(k_range, k_errors)\n",
    "plt.xlabel('Value of K for KNN')\n",
    "plt.ylabel('Error')\n",
    "plt.show()  "
   ]
  },
  {
   "cell_type": "markdown",
   "metadata": {},
   "source": [
    "观察到，算法在$k=21$的时候表现良好，取K值为21，来预测一个新数据"
   ]
  },
  {
   "cell_type": "code",
   "execution_count": 15,
   "metadata": {
    "ExecuteTime": {
     "end_time": "2020-01-21T13:20:40.667846Z",
     "start_time": "2020-01-21T13:20:40.660893Z"
    }
   },
   "outputs": [],
   "source": [
    "knn = KNN(k=21)\n",
    "knn.train(X_std,y)"
   ]
  },
  {
   "cell_type": "code",
   "execution_count": 16,
   "metadata": {
    "ExecuteTime": {
     "end_time": "2020-01-21T13:20:55.947359Z",
     "start_time": "2020-01-21T13:20:41.235085Z"
    },
    "scrolled": true
   },
   "outputs": [
    {
     "name": "stdout",
     "output_type": "stream",
     "text": [
      "每年获得的飞行常客里程数?97866986\n",
      "玩视频游戏所耗时间百分比?89\n",
      "每周消费的冰淇淋公升数?97\n",
      "这个人属于:  不喜欢的人\n"
     ]
    }
   ],
   "source": [
    "# 定义类别对应的标签\n",
    "resultList = ['不喜欢的人', '魅力一般的人', '极具魅力的人']\n",
    "#输入数据\n",
    "ffMiles = float(input(\"每年获得的飞行常客里程数?\"))\n",
    "percentTats = float(input(\"玩视频游戏所耗时间百分比?\"))\n",
    "iceCream = float(input(\"每周消费的冰淇淋公升数?\"))\n",
    "inArr = np.array([[ffMiles, percentTats, iceCream]])\n",
    "#用之前的fit的标准化数据来转换数据\n",
    "x_new = ss.transform(inArr)\n",
    "#预测数据\n",
    "ypred = knn.predict(x_new)\n",
    "print(\"这个人属于: \", resultList[int(ypred) - 1])"
   ]
  },
  {
   "cell_type": "markdown",
   "metadata": {},
   "source": [
    "## 参考资料"
   ]
  },
  {
   "cell_type": "markdown",
   "metadata": {},
   "source": [
    "https://baike.baidu.com/item/%E9%82%BB%E8%BF%91%E7%AE%97%E6%B3%95/1151153?fromtitle=knn&fromid=3479559&fr=aladdin"
   ]
  },
  {
   "cell_type": "markdown",
   "metadata": {},
   "source": [
    "https://www.cnblogs.com/midiyu/p/10786765.html"
   ]
  },
  {
   "cell_type": "markdown",
   "metadata": {},
   "source": [
    "https://www.cnblogs.com/listenfwind/p/10685192.html"
   ]
  },
  {
   "cell_type": "markdown",
   "metadata": {},
   "source": [
    "https://blog.csdn.net/m0_38056893/article/details/102990001"
   ]
  },
  {
   "cell_type": "markdown",
   "metadata": {},
   "source": [
    "http://people.csail.mit.edu/dsontag/courses/ml12/slides/lecture10.pdf"
   ]
  },
  {
   "cell_type": "markdown",
   "metadata": {},
   "source": [
    "http://cs231n.github.io/classification/"
   ]
  },
  {
   "cell_type": "markdown",
   "metadata": {},
   "source": [
    "https://www.csd.uwo.ca/courses/CS4442b/L3-ML-knn.pdf"
   ]
  },
  {
   "cell_type": "markdown",
   "metadata": {},
   "source": [
    "http://cs231n.stanford.edu/slides/2019/cs231n_2019_lecture02.pdf"
   ]
  },
  {
   "cell_type": "markdown",
   "metadata": {},
   "source": [
    "https://blog.csdn.net/FrankieHello/article/details/79659111"
   ]
  },
  {
   "cell_type": "markdown",
   "metadata": {},
   "source": [
    "https://www.cnblogs.com/jyroy/p/9427977.html"
   ]
  },
  {
   "cell_type": "code",
   "execution_count": null,
   "metadata": {},
   "outputs": [],
   "source": []
  }
 ],
 "metadata": {
  "kernelspec": {
   "display_name": "Python 3",
   "language": "python",
   "name": "python3"
  },
  "language_info": {
   "codemirror_mode": {
    "name": "ipython",
    "version": 3
   },
   "file_extension": ".py",
   "mimetype": "text/x-python",
   "name": "python",
   "nbconvert_exporter": "python",
   "pygments_lexer": "ipython3",
   "version": "3.7.1"
  },
  "toc": {
   "base_numbering": 1,
   "nav_menu": {},
   "number_sections": true,
   "sideBar": true,
   "skip_h1_title": false,
   "title_cell": "Table of Contents",
   "title_sidebar": "Contents",
   "toc_cell": false,
   "toc_position": {},
   "toc_section_display": true,
   "toc_window_display": false
  }
 },
 "nbformat": 4,
 "nbformat_minor": 2
}
